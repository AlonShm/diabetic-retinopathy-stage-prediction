{
 "cells": [
  {
   "cell_type": "code",
   "execution_count": 12,
   "id": "f99e1527-ddd8-4ddc-b2b6-b1405aaa8c4d",
   "metadata": {},
   "outputs": [
    {
     "ename": "SyntaxError",
     "evalue": "invalid syntax (3733136125.py, line 1)",
     "output_type": "error",
     "traceback": [
      "\u001b[0;36m  Input \u001b[0;32mIn [12]\u001b[0;36m\u001b[0m\n\u001b[0;31m    pip install kaggle\u001b[0m\n\u001b[0m        ^\u001b[0m\n\u001b[0;31mSyntaxError\u001b[0m\u001b[0;31m:\u001b[0m invalid syntax\n"
     ]
    }
   ],
   "source": [
    "pip install kaggle\n",
    "pip install tensorflow"
   ]
  },
  {
   "cell_type": "code",
   "execution_count": 6,
   "id": "8b970f5a-35ba-4851-89eb-7c19e4ff6ade",
   "metadata": {},
   "outputs": [],
   "source": [
    "import warnings\n",
    "warnings.filterwarnings(\"ignore\")"
   ]
  },
  {
   "cell_type": "code",
   "execution_count": 18,
   "id": "43b447cd-eb2d-4788-9993-9cf4dff343c5",
   "metadata": {},
   "outputs": [
    {
     "name": "stdout",
     "output_type": "stream",
     "text": [
      "Dataset URL: https://www.kaggle.com/datasets/benjaminwarner/resized-2015-2019-blindness-detection-images\n"
     ]
    }
   ],
   "source": [
    "# Download Datasets\n",
    "\n",
    "import os\n",
    "from kaggle.api.kaggle_api_extended import KaggleApi\n",
    "\n",
    "raw_data_directory = 'data/raw/'\n",
    "\n",
    "api = KaggleApi()\n",
    "api.authenticate()\n",
    "    \n",
    "api.dataset_download_files('benjaminwarner/resized-2015-2019-blindness-detection-images', path=raw_data_directory, unzip=True)"
   ]
  },
  {
   "cell_type": "code",
   "execution_count": 119,
   "id": "c861fb43-e54f-4a53-8dc2-139def035e00",
   "metadata": {},
   "outputs": [
    {
     "name": "stdout",
     "output_type": "stream",
     "text": [
      "labels\n",
      "resizedtest15\n",
      "resizedtrain15\n",
      "resizedtrain19\n",
      ".ipynb_checkpoints\n",
      "resizedtest19\n"
     ]
    }
   ],
   "source": [
    "for filename in os.listdir(raw_data_directory):\n",
    "    print(filename)"
   ]
  },
  {
   "cell_type": "code",
   "execution_count": 118,
   "id": "949c44fd-e533-49e0-8e90-13a39f6eddba",
   "metadata": {},
   "outputs": [],
   "source": [
    "# Remove spaces from raw data directories\n",
    "for filename in os.listdir(raw_data_directory):\n",
    "    old_file = os.path.join(raw_data_directory, filename)\n",
    "        \n",
    "    # Check if it is a file and has spaces in the name\n",
    "    if os.path.isfile(old_file) and \" \" in filename:\n",
    "        new_filename = filename.replace(\" \", replace_with)\n",
    "        new_file = os.path.join(raw_data_directory, new_filename)\n",
    "            \n",
    "        # Rename the file if the name has changed\n",
    "        if old_file != new_file:\n",
    "            os.rename(old_file, new_file)\n",
    "            print(f\"Renamed: {old_file} -> {new_file}\")"
   ]
  },
  {
   "cell_type": "code",
   "execution_count": 9,
   "id": "10fe31f3-ddbc-4b12-9992-e3892932490a",
   "metadata": {},
   "outputs": [
    {
     "name": "stdout",
     "output_type": "stream",
     "text": [
      "<class 'list'>\n"
     ]
    },
    {
     "data": {
      "text/plain": [
       "[{'image': '10_left', 'level': 0},\n",
       " {'image': '10_right', 'level': 0},\n",
       " {'image': '13_left', 'level': 0},\n",
       " {'image': '13_right', 'level': 0},\n",
       " {'image': '15_left', 'level': 1},\n",
       " {'image': '15_right', 'level': 2},\n",
       " {'image': '16_left', 'level': 4},\n",
       " {'image': '16_right', 'level': 4},\n",
       " {'image': '17_left', 'level': 0},\n",
       " {'image': '17_right', 'level': 1}]"
      ]
     },
     "execution_count": 9,
     "metadata": {},
     "output_type": "execute_result"
    }
   ],
   "source": [
    "import os\n",
    "import pandas as pd\n",
    "import json\n",
    "\n",
    "dataset_path = \"data/raw/labels/trainLabels15.csv\"\n",
    "json_data = 'data/data15.json'\n",
    "\n",
    "if not os.path.exists(json_data):\n",
    "    df = pd.read_csv(dataset_path)\n",
    "    df.head()\n",
    "\n",
    "    json_data = df.to_json(orient='records', indent=4)\n",
    "\n",
    "    with open('data/data15.json', 'w') as f:\n",
    "        f.write(json_data)\n",
    "        \n",
    "with open(json_data, 'r', encoding='utf-8') as f:\n",
    "        data_as_dict = json.load(f)\n",
    "\n",
    "print(type(data_as_dict))\n",
    "data_as_dict[:10]"
   ]
  },
  {
   "cell_type": "code",
   "execution_count": 10,
   "id": "16e8a28a-5ac2-4a62-9bcc-b0248c34255d",
   "metadata": {},
   "outputs": [],
   "source": [
    "# Prepare Data - Copy Images to Class-Specific Directories\n",
    "def prepare_data(data, src_folder, dst_folder):\n",
    "    if not os.path.exists(dst_folder):\n",
    "        os.makedirs(dst_folder)\n",
    "    \n",
    "    for record in data:\n",
    "        diagnosis = str(record['level'])\n",
    "        img_name = f\"{record['image']}.jpg\"\n",
    "        \n",
    "        class_folder = os.path.join(dst_folder, diagnosis)\n",
    "        if not os.path.exists(class_folder):\n",
    "            os.makedirs(class_folder)\n",
    "        \n",
    "        shutil.copy(os.path.join(src_folder, img_name), os.path.join(class_folder, img_name))"
   ]
  },
  {
   "cell_type": "code",
   "execution_count": 11,
   "id": "fea74e48-44b5-45b9-9fc7-661d6b475374",
   "metadata": {},
   "outputs": [],
   "source": [
    "# Load the labels data and rearrange images in directories\n",
    "with open(json_data, 'r', encoding='utf-8') as f:\n",
    "    data_as_dict = json.load(f)\n",
    "\n",
    "# dataset = [{'id_code': '000c1434d8d7', 'diagnosis': 2}, {'id_code': '001639a390f0', 'diagnosis': 4}]\n",
    "prepare_data(data_as_dict, src_folder='data/raw/resizedtrain15', dst_folder='data/train15')"
   ]
  }
 ],
 "metadata": {
  "kernelspec": {
   "display_name": "Python 3 (ipykernel)",
   "language": "python",
   "name": "python3"
  },
  "language_info": {
   "codemirror_mode": {
    "name": "ipython",
    "version": 3
   },
   "file_extension": ".py",
   "mimetype": "text/x-python",
   "name": "python",
   "nbconvert_exporter": "python",
   "pygments_lexer": "ipython3",
   "version": "3.8.10"
  }
 },
 "nbformat": 4,
 "nbformat_minor": 5
}
