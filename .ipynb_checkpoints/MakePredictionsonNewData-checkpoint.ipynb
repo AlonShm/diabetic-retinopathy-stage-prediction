{
 "cells": [
  {
   "cell_type": "code",
   "execution_count": 2,
   "id": "a506d17c-952c-417a-80a7-1ba3d97dec95",
   "metadata": {},
   "outputs": [],
   "source": [
    "# Load the Model\n",
    "\n",
    "from tensorflow.keras.models import load_model\n",
    "\n",
    "# Load the saved model\n",
    "model = load_model('models/final_vgg16_model.keras')\n"
   ]
  },
  {
   "cell_type": "code",
   "execution_count": null,
   "id": "a0d88d2c-e35c-419d-bb2a-93f332657627",
   "metadata": {},
   "outputs": [],
   "source": [
    "# Prepare a new image for prediction:\n",
    "# Ensure the image is resized to 224x224 (VGG16 input size).\n",
    "# Rescale pixel values (divide by 255) to match the format used during training."
   ]
  },
  {
   "cell_type": "code",
   "execution_count": 3,
   "id": "920b8a75-5c64-408f-a7df-2178097d9259",
   "metadata": {},
   "outputs": [
    {
     "name": "stdout",
     "output_type": "stream",
     "text": [
      "1/1 [==============================] - 0s 298ms/step\n",
      "Predicted diagnosis class: 2\n"
     ]
    }
   ],
   "source": [
    "import numpy as np\n",
    "from tensorflow.keras.preprocessing.image import load_img, img_to_array\n",
    "\n",
    "# Load and preprocess the image\n",
    "img_path = 'data/predictions/081c7ec32f27.jpg'\n",
    "img = load_img(img_path, target_size=(224, 224))  # Resize to 224x224\n",
    "img_array = img_to_array(img) / 255.0  # Rescale pixel values\n",
    "img_array = np.expand_dims(img_array, axis=0)  # Add batch dimension\n",
    "\n",
    "# Predict the diagnosis\n",
    "prediction = model.predict(img_array)\n",
    "\n",
    "# Get the class with the highest probability\n",
    "predicted_class = np.argmax(prediction, axis=1)[0]\n",
    "print(f'Predicted diagnosis class: {predicted_class}')"
   ]
  },
  {
   "cell_type": "code",
   "execution_count": null,
   "id": "6f573ec6-b3a1-45e3-b3e7-1a7f2a6a9b06",
   "metadata": {},
   "outputs": [],
   "source": []
  }
 ],
 "metadata": {
  "kernelspec": {
   "display_name": "Python 3 (ipykernel)",
   "language": "python",
   "name": "python3"
  },
  "language_info": {
   "codemirror_mode": {
    "name": "ipython",
    "version": 3
   },
   "file_extension": ".py",
   "mimetype": "text/x-python",
   "name": "python",
   "nbconvert_exporter": "python",
   "pygments_lexer": "ipython3",
   "version": "3.8.10"
  }
 },
 "nbformat": 4,
 "nbformat_minor": 5
}
